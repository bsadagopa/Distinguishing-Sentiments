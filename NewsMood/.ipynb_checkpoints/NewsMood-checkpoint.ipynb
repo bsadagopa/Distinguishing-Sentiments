{
 "cells": [
  {
   "cell_type": "code",
   "execution_count": 1,
   "metadata": {},
   "outputs": [],
   "source": [
    "# Dependencies\n",
    "import tweepy\n",
    "import numpy as np\n",
    "import pandas as pd\n",
    "import matplotlib.pyplot as plt\n",
    "from datetime import datetime\n",
    "import time\n",
    "\n",
    "from pprint import pprint\n",
    "\n",
    "%matplotlib inline\n",
    "\n",
    "# Import and Initialize Sentiment Analyzer\n",
    "from vaderSentiment.vaderSentiment import SentimentIntensityAnalyzer\n",
    "analyzer = SentimentIntensityAnalyzer()\n",
    "\n",
    "#from config import (consumer_key, consumer_secret,\n",
    "#                    access_token, access_token_secret)\n",
    "\n",
    "# Twitter API Keys\n",
    "consumer_key = \"lQDyO9LHsHV7rw12KbBGP2H4S\"\n",
    "consumer_secret = \"SrjdhJcNqJUsnMckBdp9vICDSXS8udXvEJr1iZQKKgMmyp4rsS\"\n",
    "access_token = \"1007989024773074944-XZqI1XqtOjXdGDZlEMlftuNkRQbCVe\"\n",
    "access_token_secret = \"58vmGsdNdKv7dXmc1NfMs7VfnbGarNgelr4IGnQf6bLjj\"\n",
    "\n",
    "# Setup Tweepy API Authentication\n",
    "auth = tweepy.OAuthHandler(consumer_key, consumer_secret)\n",
    "auth.set_access_token(access_token, access_token_secret)\n",
    "api = tweepy.API(auth, parser=tweepy.parsers.JSONParser())"
   ]
  },
  {
   "cell_type": "code",
   "execution_count": 2,
   "metadata": {},
   "outputs": [],
   "source": [
    "def getNewsSentiment(search='@bbc', tweet_count=1):\n",
    "    #print(f\"getNewsSentiment, {search} {tweet_count}\")\n",
    "    api = tweepy.API(auth)\n",
    "    # Variables for holding sentiments\n",
    "    #tweet_source_list = []\n",
    "    sentiment_list = []\n",
    "    compound_list = []\n",
    "    positive_list = []\n",
    "    negative_list = []\n",
    "    neutral_list = []\n",
    "    tweets_ago = []    \n",
    "    \n",
    "    count = 0\n",
    "        \n",
    "    for result in tweepy.Cursor(api.user_timeline, search).items(tweet_count):\n",
    "        sentiment = analyzer.polarity_scores(result._json['text'])\n",
    "        #pprint(result._json)\n",
    "        #tweet_source_list.append(result._json['user']['name'])\n",
    "        sentiment_list.append(result._json['text'])\n",
    "        compound_list.append(sentiment['compound'])\n",
    "        positive_list.append(sentiment['pos'])\n",
    "        negative_list.append(sentiment['neg'])\n",
    "        neutral_list.append(sentiment['neu'])\n",
    "        tweets_ago.append(count)\n",
    "        count += 1\n",
    "    \n",
    "    return pd.DataFrame({'Tweet Source':search,\n",
    "                 'Tweet':sentiment_list,\n",
    "                 'Compound':compound_list,\n",
    "                 'Positive':positive_list, \n",
    "                 'Negative':negative_list, \n",
    "                 'Neutral':neutral_list,\n",
    "                 'Tweets Ago':tweets_ago})"
   ]
  },
  {
   "cell_type": "code",
   "execution_count": 3,
   "metadata": {},
   "outputs": [],
   "source": [
    "# Target Search Term\n",
    "news_stations = (\"@BBC\", \"@CBS\", \"@CNN\", \"@Fox\", \"@nytimes\")\n"
   ]
  },
  {
   "cell_type": "code",
   "execution_count": 4,
   "metadata": {},
   "outputs": [
    {
     "data": {
      "text/html": [
       "<div>\n",
       "<style scoped>\n",
       "    .dataframe tbody tr th:only-of-type {\n",
       "        vertical-align: middle;\n",
       "    }\n",
       "\n",
       "    .dataframe tbody tr th {\n",
       "        vertical-align: top;\n",
       "    }\n",
       "\n",
       "    .dataframe thead th {\n",
       "        text-align: right;\n",
       "    }\n",
       "</style>\n",
       "<table border=\"1\" class=\"dataframe\">\n",
       "  <thead>\n",
       "    <tr style=\"text-align: right;\">\n",
       "      <th></th>\n",
       "      <th>Tweet Source</th>\n",
       "      <th>Tweet</th>\n",
       "      <th>Compound</th>\n",
       "      <th>Positive</th>\n",
       "      <th>Negative</th>\n",
       "      <th>Neutral</th>\n",
       "      <th>Tweets Ago</th>\n",
       "    </tr>\n",
       "  </thead>\n",
       "  <tbody>\n",
       "    <tr>\n",
       "      <th>0</th>\n",
       "      <td>@nytimes</td>\n",
       "      <td>The Koch brothers are waging a sophisticated f...</td>\n",
       "      <td>0.2500</td>\n",
       "      <td>0.162</td>\n",
       "      <td>0.117</td>\n",
       "      <td>0.721</td>\n",
       "      <td>0</td>\n",
       "    </tr>\n",
       "    <tr>\n",
       "      <th>1</th>\n",
       "      <td>@nytimes</td>\n",
       "      <td>RT @nytopinion: Many on the Christian right ar...</td>\n",
       "      <td>0.4404</td>\n",
       "      <td>0.121</td>\n",
       "      <td>0.000</td>\n",
       "      <td>0.879</td>\n",
       "      <td>1</td>\n",
       "    </tr>\n",
       "  </tbody>\n",
       "</table>\n",
       "</div>"
      ],
      "text/plain": [
       "  Tweet Source                                              Tweet  Compound  \\\n",
       "0     @nytimes  The Koch brothers are waging a sophisticated f...    0.2500   \n",
       "1     @nytimes  RT @nytopinion: Many on the Christian right ar...    0.4404   \n",
       "\n",
       "   Positive  Negative  Neutral  Tweets Ago  \n",
       "0     0.162     0.117    0.721           0  \n",
       "1     0.121     0.000    0.879           1  "
      ]
     },
     "execution_count": 4,
     "metadata": {},
     "output_type": "execute_result"
    }
   ],
   "source": [
    "getNewsSentiment(\"@nytimes\", tweet_count=2)"
   ]
  },
  {
   "cell_type": "code",
   "execution_count": 5,
   "metadata": {},
   "outputs": [
    {
     "data": {
      "text/plain": [
       "5"
      ]
     },
     "execution_count": 5,
     "metadata": {},
     "output_type": "execute_result"
    }
   ],
   "source": [
    "tweet_count = 100\n",
    "station_feedbacks = []\n",
    "for station in news_stations:\n",
    "    #print(station)\n",
    "    station_feedbacks.append(getNewsSentiment(station, tweet_count))\n",
    "    #print(df)\n",
    "    #station_feedback_df = df = pd.DataFrame.append(station_feedback_df, df, ignore_index=True)\n",
    "\n",
    "len(station_feedbacks)"
   ]
  },
  {
   "cell_type": "code",
   "execution_count": 6,
   "metadata": {},
   "outputs": [],
   "source": [
    "count = len(station_feedbacks)\n",
    "merged_df = pd.DataFrame()\n",
    "for i in range(count):\n",
    "    merged_df = pd.DataFrame.append(merged_df, station_feedbacks[i],ignore_index=True)"
   ]
  },
  {
   "cell_type": "code",
   "execution_count": 7,
   "metadata": {},
   "outputs": [],
   "source": [
    "media_sentiment_filename = f\"{str(time.strftime('%m-%d-%y'))}-NewsMood.csv\"\n",
    "merged_df.to_csv(media_sentiment_filename)"
   ]
  },
  {
   "cell_type": "code",
   "execution_count": 8,
   "metadata": {},
   "outputs": [
    {
     "data": {
      "text/html": [
       "<div>\n",
       "<style scoped>\n",
       "    .dataframe tbody tr th:only-of-type {\n",
       "        vertical-align: middle;\n",
       "    }\n",
       "\n",
       "    .dataframe tbody tr th {\n",
       "        vertical-align: top;\n",
       "    }\n",
       "\n",
       "    .dataframe thead th {\n",
       "        text-align: right;\n",
       "    }\n",
       "</style>\n",
       "<table border=\"1\" class=\"dataframe\">\n",
       "  <thead>\n",
       "    <tr style=\"text-align: right;\">\n",
       "      <th></th>\n",
       "      <th>Tweet Source</th>\n",
       "      <th>Tweet</th>\n",
       "      <th>Compound</th>\n",
       "      <th>Positive</th>\n",
       "      <th>Negative</th>\n",
       "      <th>Neutral</th>\n",
       "      <th>Tweets Ago</th>\n",
       "    </tr>\n",
       "  </thead>\n",
       "  <tbody>\n",
       "    <tr>\n",
       "      <th>0</th>\n",
       "      <td>@nytimes</td>\n",
       "      <td>The Koch brothers are waging a sophisticated f...</td>\n",
       "      <td>0.2500</td>\n",
       "      <td>0.162</td>\n",
       "      <td>0.117</td>\n",
       "      <td>0.721</td>\n",
       "      <td>0</td>\n",
       "    </tr>\n",
       "    <tr>\n",
       "      <th>1</th>\n",
       "      <td>@nytimes</td>\n",
       "      <td>RT @nytopinion: Many on the Christian right ar...</td>\n",
       "      <td>0.4404</td>\n",
       "      <td>0.121</td>\n",
       "      <td>0.000</td>\n",
       "      <td>0.879</td>\n",
       "      <td>1</td>\n",
       "    </tr>\n",
       "    <tr>\n",
       "      <th>2</th>\n",
       "      <td>@nytimes</td>\n",
       "      <td>Steve Schmidt, who advised George W. Bush and ...</td>\n",
       "      <td>0.0000</td>\n",
       "      <td>0.000</td>\n",
       "      <td>0.000</td>\n",
       "      <td>1.000</td>\n",
       "      <td>2</td>\n",
       "    </tr>\n",
       "    <tr>\n",
       "      <th>3</th>\n",
       "      <td>@nytimes</td>\n",
       "      <td>AMC has come up with its own subscription plan...</td>\n",
       "      <td>-0.7003</td>\n",
       "      <td>0.000</td>\n",
       "      <td>0.293</td>\n",
       "      <td>0.707</td>\n",
       "      <td>3</td>\n",
       "    </tr>\n",
       "    <tr>\n",
       "      <th>4</th>\n",
       "      <td>@nytimes</td>\n",
       "      <td>RT @nytopinion: New York Governor @andrewcuomo...</td>\n",
       "      <td>0.0258</td>\n",
       "      <td>0.094</td>\n",
       "      <td>0.090</td>\n",
       "      <td>0.816</td>\n",
       "      <td>4</td>\n",
       "    </tr>\n",
       "  </tbody>\n",
       "</table>\n",
       "</div>"
      ],
      "text/plain": [
       "  Tweet Source                                              Tweet  Compound  \\\n",
       "0     @nytimes  The Koch brothers are waging a sophisticated f...    0.2500   \n",
       "1     @nytimes  RT @nytopinion: Many on the Christian right ar...    0.4404   \n",
       "2     @nytimes  Steve Schmidt, who advised George W. Bush and ...    0.0000   \n",
       "3     @nytimes  AMC has come up with its own subscription plan...   -0.7003   \n",
       "4     @nytimes  RT @nytopinion: New York Governor @andrewcuomo...    0.0258   \n",
       "\n",
       "   Positive  Negative  Neutral  Tweets Ago  \n",
       "0     0.162     0.117    0.721           0  \n",
       "1     0.121     0.000    0.879           1  \n",
       "2     0.000     0.000    1.000           2  \n",
       "3     0.000     0.293    0.707           3  \n",
       "4     0.094     0.090    0.816           4  "
      ]
     },
     "execution_count": 8,
     "metadata": {},
     "output_type": "execute_result"
    }
   ],
   "source": [
    "station_feedbacks[4].head()"
   ]
  },
  {
   "cell_type": "code",
   "execution_count": 12,
   "metadata": {},
   "outputs": [
    {
     "data": {
      "image/png": "[encoded data removed]",
      "text/plain": [
       "<Figure size 432x288 with 1 Axes>"
      ]
     },
     "metadata": {},
     "output_type": "display_data"
    }
   ],
   "source": [
    "colors = ['lightcoral', 'green', 'red', 'blue', 'yellow']\n",
    "count = 0\n",
    "\n",
    "for station in station_feedbacks:\n",
    "    plt.scatter(station['Tweets Ago'], \n",
    "                station['Compound'],\n",
    "                c=colors[count],\n",
    "                edgecolor=\"black\", linewidths=1, marker=\"o\",\n",
    "                alpha=1, label=station['Tweet Source'][0].split('@')[1])\n",
    "\n",
    "    count += 1\n",
    "\n",
    "now = datetime.now()\n",
    "now = now.strftime(\"%Y-%m-%d %H:%M\")\n",
    "plt.title(f\"Sentiment Analysis of Media Tweets ({now})\")\n",
    "plt.ylabel(\"Tweet Polarity\")\n",
    "plt.xlabel(\"Tweets Ago\")\n",
    "\n",
    "plt.grid(True)\n",
    "\n",
    "plt.legend(loc=\"upper left\", bbox_to_anchor=(1,1), title=\"Media Sources\")\n",
    "\n",
    "plt.show()    \n"
   ]
  },
  {
   "cell_type": "code",
   "execution_count": null,
   "metadata": {},
   "outputs": [],
   "source": [
    "\n",
    "# Save the figure (and account for the legend being outside the plot when saving)\n",
    "file_name = str(time.strftime(\"%m-%d-%y\")) + \"-Fig1.png\"\n",
    "plt.savefig(\"analysis/\" + file_name, bbox_extra_artists=(lgnd, ), bbox_inches='tight')\n",
    "\n",
    "# Show plot\n",
    "plt.show()"
   ]
  }
 ],
 "metadata": {
  "kernelspec": {
   "display_name": "Python 3",
   "language": "python",
   "name": "python3"
  },
  "language_info": {
   "codemirror_mode": {
    "name": "ipython",
    "version": 3
   },
   "file_extension": ".py",
   "mimetype": "text/x-python",
   "name": "python",
   "nbconvert_exporter": "python",
   "pygments_lexer": "ipython3",
   "version": "3.6.5"
  }
 },
 "nbformat": 4,
 "nbformat_minor": 2
}
